{
  "nbformat": 4,
  "nbformat_minor": 0,
  "metadata": {
    "colab": {
      "provenance": [],
      "authorship_tag": "ABX9TyN65aBe4jymOsAtjoAJaKpS",
      "include_colab_link": true
    },
    "kernelspec": {
      "name": "python3",
      "display_name": "Python 3"
    },
    "language_info": {
      "name": "python"
    }
  },
  "cells": [
    {
      "cell_type": "markdown",
      "metadata": {
        "id": "view-in-github",
        "colab_type": "text"
      },
      "source": [
        "<a href=\"https://colab.research.google.com/github/Jim123/CalLambda/blob/master/Copy_of_Login.ipynb\" target=\"_parent\"><img src=\"https://colab.research.google.com/assets/colab-badge.svg\" alt=\"Open In Colab\"/></a>"
      ]
    },
    {
      "cell_type": "code",
      "execution_count": null,
      "metadata": {
        "id": "c8RVsHCtwdxF"
      },
      "outputs": [],
      "source": []
    },
    {
      "cell_type": "code",
      "execution_count": null,
      "metadata": {
        "colab": {
          "base_uri": "https://localhost:8080/"
        },
        "id": "6FJldKpgxEpE",
        "outputId": "2ec52347-fa35-4dab-e6df-2033272e18e4"
      },
      "outputs": [
        {
          "output_type": "stream",
          "name": "stdout",
          "text": [
            "Enter your Username admin\n",
            "Enter your password password\n",
            "Sign-on Successful, Welcome  admin\n"
          ]
        }
      ],
      "source": [
        "username = input (\"Enter your Username \")\n",
        "#Prompt the user for a Password\n",
        "password = input(\"Enter your password \")\n",
        "\n",
        "#Check if the username password match a predefined  set oc credentials\n",
        "if username ==\"admin\" and password ==\"password\":\n",
        "  print(\"Sign-on Successful, Welcome \", username )\n",
        "else:\n",
        "  print(\"Invalid username of password  Sign on failed\")"
      ]
    }
  ]
}